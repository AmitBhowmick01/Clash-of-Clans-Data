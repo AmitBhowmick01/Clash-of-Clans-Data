{
 "cells": [
  {
   "cell_type": "code",
   "execution_count": 1,
   "metadata": {},
   "outputs": [],
   "source": [
    "import pandas as pd"
   ]
  },
  {
   "cell_type": "code",
   "execution_count": 2,
   "metadata": {},
   "outputs": [
    {
     "name": "stdout",
     "output_type": "stream",
     "text": [
      "(20, 2)\n",
      "(100, 16)\n",
      "(25, 12)\n",
      "(45, 11)\n",
      "(46, 9)\n"
     ]
    }
   ],
   "source": [
    "clan_info_df = pd.read_excel(r'D:\\\\Python Data\\\\Projects\\\\Fukre Work\\\\Clash of Clan Data\\\\Clan Data\\\\clan_data.xlsx')\n",
    "all_war_df = pd.read_excel(r'D:\\\\Python Data\\\\Projects\\\\Fukre Work\\\\Clash of Clan Data\\\\All Wars Data\\\\2024-05-29_all_previous_war_data.xlsx')\n",
    "current_war_df = pd.read_excel(r'D:\\\\Python Data\\\\Projects\\\\Fukre Work\\\\Clash of Clan Data\\\\Current War Data\\\\2024-05-29_current_war_data.xlsx')\n",
    "players_df = pd.read_excel(r'D:\\\\Python Data\\\\Projects\\\\Fukre Work\\\\Clash of Clan Data\\\\Players Data\\\\2024-05-29_clan_players_data.xlsx')\n",
    "raid_war_df = pd.read_excel(r'D:\\\\Python Data\\\\Projects\\\\Fukre Work\\\\Clash of Clan Data\\\\Raid Weekend Data\\\\21_raid_weekend_data.xlsx')\n",
    "print(clan_info_df.shape)\n",
    "print(all_war_df.shape)\n",
    "print(current_war_df.shape)\n",
    "print(players_df.shape)\n",
    "print(raid_war_df.shape)"
   ]
  },
  {
   "cell_type": "code",
   "execution_count": 3,
   "metadata": {},
   "outputs": [],
   "source": [
    "# Specify the full path for the output file\n",
    "output_path = r'D:\\\\Python Data\\\\Projects\\\\Fukre Work\\\\Clash of Clan Data\\\\combined_data.xlsx'\n",
    "\n",
    "# Create a writer object with the specified path\n",
    "with pd.ExcelWriter(output_path) as writer:\n",
    "    # Write each dataframe to a separate sheet\n",
    "    clan_info_df.to_excel(writer, sheet_name='About Clan', index=False)\n",
    "    players_df.to_excel(writer, sheet_name='Players Data', index=False)\n",
    "    raid_war_df.to_excel(writer, sheet_name='Raid Weekend Data', index=False)\n",
    "    current_war_df.to_excel(writer, sheet_name='Current War Data', index=False)\n",
    "    all_war_df.to_excel(writer, sheet_name='All War Data', index=False)"
   ]
  },
  {
   "cell_type": "code",
   "execution_count": null,
   "metadata": {},
   "outputs": [],
   "source": []
  },
  {
   "cell_type": "code",
   "execution_count": 1,
   "metadata": {},
   "outputs": [
    {
     "name": "stdout",
     "output_type": "stream",
     "text": [
      "Consolidated data saved to D:\\\\Python Data\\\\Projects\\\\Fukre Work\\\\Clash of Clan Data\\\\consolidated_raid_data.xlsx\n"
     ]
    }
   ],
   "source": [
    "import pandas as pd\n",
    "import os\n",
    "import glob\n",
    "\n",
    "# Directory containing the raid weekend data files\n",
    "input_folder = r'D:\\\\Python Data\\\\Projects\\\\Fukre Work\\\\Clash of Clan Data\\\\Raid Weekend Data'\n",
    "output_file = r'D:\\\\Python Data\\\\Projects\\\\Fukre Work\\\\Clash of Clan Data\\\\Raid_data.xlsx'\n",
    "\n",
    "# Get all Excel files in the directory\n",
    "excel_files = glob.glob(os.path.join(input_folder, '*.xlsx'))\n",
    "\n",
    "# Initialize an empty DataFrame to hold the consolidated data\n",
    "consolidated_df = pd.DataFrame()\n",
    "\n",
    "# Iterate over each Excel file\n",
    "for file in excel_files:\n",
    "    # Read the Excel file into a DataFrame\n",
    "    df = pd.read_excel(file)\n",
    "    \n",
    "    # Extract the week number from the file name\n",
    "    week_number = os.path.basename(file).split('_')[0]\n",
    "    \n",
    "    # Create a new column name for attacks based on the week number\n",
    "    new_column_name = f'Week: {week_number}'\n",
    "    \n",
    "    # Select the necessary columns and rename the attacks column\n",
    "    df = df[['Player Tag', 'Player Name', 'Attacks']].rename(columns={'Attacks': new_column_name})\n",
    "    \n",
    "    # Merge the current file's data with the consolidated DataFrame\n",
    "    if consolidated_df.empty:\n",
    "        consolidated_df = df\n",
    "    else:\n",
    "        consolidated_df = pd.merge(consolidated_df, df, on=['Player Tag', 'Player Name'], how='outer')\n",
    "\n",
    "# Write the consolidated data to a new Excel file\n",
    "consolidated_df.to_excel(output_file, index=False)\n",
    "\n",
    "print(f\"Consolidated data saved to {output_file}\")"
   ]
  },
  {
   "cell_type": "code",
   "execution_count": null,
   "metadata": {},
   "outputs": [],
   "source": []
  }
 ],
 "metadata": {
  "kernelspec": {
   "display_name": "Python 3",
   "language": "python",
   "name": "python3"
  },
  "language_info": {
   "codemirror_mode": {
    "name": "ipython",
    "version": 3
   },
   "file_extension": ".py",
   "mimetype": "text/x-python",
   "name": "python",
   "nbconvert_exporter": "python",
   "pygments_lexer": "ipython3",
   "version": "3.11.9"
  }
 },
 "nbformat": 4,
 "nbformat_minor": 2
}
