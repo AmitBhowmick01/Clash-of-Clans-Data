{
 "cells": [
  {
   "cell_type": "code",
   "execution_count": null,
   "metadata": {},
   "outputs": [],
   "source": [
    "pip install pywin32"
   ]
  },
  {
   "cell_type": "code",
   "execution_count": null,
   "metadata": {},
   "outputs": [],
   "source": [
    "import shutil\n",
    "\n",
    "def copy_excel_file(source_path, target_path):\n",
    "    shutil.copyfile(source_path, target_path)\n",
    "\n",
    "# Usage\n",
    "source_file = r'D:\\\\Python Data\\\\Projects\\\\Fukre Work\\\\Clash of Clan Data\\\\1.0_Clan_Stats.xlsx'\n",
    "target_file = r'D:\\\\Python Data\\\\Projects\\\\Fukre Work\\\\Clash of Clan Data\\\\Copy_Clan_Stats.xlsx'\n",
    "copy_excel_file(source_file, target_file)"
   ]
  },
  {
   "cell_type": "code",
   "execution_count": 4,
   "metadata": {},
   "outputs": [],
   "source": [
    "import pandas as pd\n",
    "\n",
    "def copy_values_only(source_path, target_path):\n",
    "    # Load data from source\n",
    "    df = pd.read_excel(source_path, sheet_name=None)\n",
    "\n",
    "    # Write data to target\n",
    "    with pd.ExcelWriter(target_path) as writer:\n",
    "        for sheet_name, df_sheet in df.items():\n",
    "            df_sheet.to_excel(writer, sheet_name=sheet_name, index=False)\n",
    "\n",
    "# Usage\n",
    "source_file = r'D:\\\\Python Data\\\\Projects\\\\Fukre Work\\\\Clash of Clan Data\\\\1.0_Clan_Stats.xlsx'\n",
    "target_file = r'D:\\\\Python Data\\\\Projects\\\\Fukre Work\\\\Clash of Clan Data\\\\Copy_Clan_Stats.xlsx'\n",
    "copy_values_only(source_file, target_file)"
   ]
  },
  {
   "cell_type": "code",
   "execution_count": null,
   "metadata": {},
   "outputs": [],
   "source": []
  }
 ],
 "metadata": {
  "kernelspec": {
   "display_name": "Python 3",
   "language": "python",
   "name": "python3"
  },
  "language_info": {
   "codemirror_mode": {
    "name": "ipython",
    "version": 3
   },
   "file_extension": ".py",
   "mimetype": "text/x-python",
   "name": "python",
   "nbconvert_exporter": "python",
   "pygments_lexer": "ipython3",
   "version": "3.11.9"
  }
 },
 "nbformat": 4,
 "nbformat_minor": 2
}
